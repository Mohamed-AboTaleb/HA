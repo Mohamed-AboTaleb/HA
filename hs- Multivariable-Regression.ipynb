{
 "cells": [
  {
   "cell_type": "code",
   "execution_count": 163,
   "metadata": {},
   "outputs": [],
   "source": [
    "import numpy as np \n",
    "import pandas as pd \n",
    "import matplotlib.pyplot as plt \n",
    "path = 'D:\\\\dldb\\\\ha\\\\ex2data1.txt' \n",
    "data = pd.read_csv(path, header=None, names=['Size', 'Bedrooms', 'Price']) "
   ]
  },
  {
   "cell_type": "code",
   "execution_count": 164,
   "metadata": {},
   "outputs": [],
   "source": [
    "def computeCost(X, y, theta): \n",
    "    inner = np.power(((X * theta.T) - y), 2) \n",
    "    return np.sum(inner) / (2 * len(X)) \n"
   ]
  },
  {
   "cell_type": "code",
   "execution_count": 165,
   "metadata": {},
   "outputs": [],
   "source": [
    "def gradientDescent(X, y, theta, alpha, iters): \n",
    "    temp = np.matrix(np.zeros(theta.shape)) \n",
    "    parameters = int(theta.ravel().shape[1]) \n",
    "    cost = np.zeros(iters) \n",
    "    for i in range(iters):\n",
    "        error = (X * theta.T) - y \n",
    "        for j in range(parameters):\n",
    "            term = np.multiply(error, X[:,j]) \n",
    "            temp[0,j] = theta[0,j] - ((alpha / len(X)) * np.sum(term)) \n",
    "        theta = temp \n",
    "        cost[i] = computeCost(X, y, theta) \n",
    "    return theta, cost "
   ]
  },
  {
   "cell_type": "code",
   "execution_count": 166,
   "metadata": {},
   "outputs": [
    {
     "name": "stdout",
     "output_type": "stream",
     "text": [
      "data =     Size  Bedrooms   Price\n",
      "0  2104         3  399900\n",
      "1  1600         3  329900\n",
      "2  2400         3  369000\n",
      "3  1416         2  232000\n",
      "4  3000         4  539900\n",
      "5  1985         4  299900\n",
      "6  1534         3  314900\n",
      "7  1427         3  198999\n",
      "8  1380         3  212000\n",
      "9  1494         3  242500\n",
      "=======================================\n",
      "data.describe =                Size   Bedrooms          Price\n",
      "count    47.000000  47.000000      47.000000\n",
      "mean   2000.680851   3.170213  340412.659574\n",
      "std     794.702354   0.760982  125039.899586\n",
      "min     852.000000   1.000000  169900.000000\n",
      "25%    1432.000000   3.000000  249900.000000\n",
      "50%    1888.000000   3.000000  299900.000000\n",
      "75%    2269.000000   4.000000  384450.000000\n",
      "max    4478.000000   5.000000  699900.000000\n",
      "=======================================\n"
     ]
    }
   ],
   "source": [
    "#show data \n",
    "print('data = ',data.head(10)) \n",
    "print('=======================================') \n",
    "print('data.describe = ',data.describe()) \n",
    "print('=======================================') "
   ]
  },
  {
   "cell_type": "code",
   "execution_count": 167,
   "metadata": {},
   "outputs": [
    {
     "name": "stdout",
     "output_type": "stream",
     "text": [
      "\n",
      "data after normalization = \n",
      "       Size  Bedrooms     Price\n",
      "0  0.130010 -0.223675  0.475747\n",
      "1 -0.504190 -0.223675 -0.084074\n",
      "2  0.502476 -0.223675  0.228626\n",
      "3 -0.735723 -1.537767 -0.867025\n",
      "4  1.257476  1.090417  1.595389\n",
      "5 -0.019732  1.090417 -0.323998\n",
      "6 -0.587240 -0.223675 -0.204036\n",
      "7 -0.721881 -0.223675 -1.130948\n",
      "8 -0.781023 -0.223675 -1.026973\n",
      "9 -0.637573 -0.223675 -0.783051\n"
     ]
    }
   ],
   "source": [
    "# rescaling data \n",
    "data = (data - data.mean()) / data.std() \n",
    "print() \n",
    "print('data after normalization = ') \n",
    "print(data.head(10) ) "
   ]
  },
  {
   "cell_type": "code",
   "execution_count": 168,
   "metadata": {},
   "outputs": [
    {
     "name": "stdout",
     "output_type": "stream",
     "text": [
      "======================================\n",
      "X data = \n",
      "    Ones      Size  Bedrooms\n",
      "0     1  0.130010 -0.223675\n",
      "1     1 -0.504190 -0.223675\n",
      "2     1  0.502476 -0.223675\n",
      "3     1 -0.735723 -1.537767\n",
      "4     1  1.257476  1.090417\n",
      "5     1 -0.019732  1.090417\n",
      "6     1 -0.587240 -0.223675\n",
      "7     1 -0.721881 -0.223675\n",
      "8     1 -0.781023 -0.223675\n",
      "9     1 -0.637573 -0.223675\n",
      "======================================\n",
      "y data = \n",
      "       Price\n",
      "0  0.475747\n",
      "1 -0.084074\n",
      "2  0.228626\n",
      "3 -0.867025\n",
      "4  1.595389\n",
      "5 -0.323998\n",
      "6 -0.204036\n",
      "7 -1.130948\n",
      "8 -1.026973\n",
      "9 -0.783051\n",
      "======================================\n"
     ]
    }
   ],
   "source": [
    "# add ones column \n",
    "data.insert(0, 'Ones', 1) \n",
    "\n",
    "\n",
    "# separate X (training data) from y (target variable) \n",
    "cols = data.shape[1] \n",
    "X = data.iloc[:,0:cols-1] \n",
    "y = data.iloc[:,cols-1:cols] \n",
    "print('======================================')  \n",
    "print('X data = \\n' ,X.head(10) ) \n",
    "print('======================================') \n",
    "print('y data = \\n' ,y.head(10) ) \n",
    "print('======================================') \n"
   ]
  },
  {
   "cell_type": "code",
   "execution_count": 169,
   "metadata": {},
   "outputs": [
    {
     "name": "stdout",
     "output_type": "stream",
     "text": [
      "X \n",
      " [[ 1.00000000e+00  1.30009869e-01 -2.23675187e-01]\n",
      " [ 1.00000000e+00 -5.04189838e-01 -2.23675187e-01]\n",
      " [ 1.00000000e+00  5.02476364e-01 -2.23675187e-01]\n",
      " [ 1.00000000e+00 -7.35723065e-01 -1.53776691e+00]\n",
      " [ 1.00000000e+00  1.25747602e+00  1.09041654e+00]\n",
      " [ 1.00000000e+00 -1.97317285e-02  1.09041654e+00]\n",
      " [ 1.00000000e+00 -5.87239800e-01 -2.23675187e-01]\n",
      " [ 1.00000000e+00 -7.21881404e-01 -2.23675187e-01]\n",
      " [ 1.00000000e+00 -7.81023044e-01 -2.23675187e-01]\n",
      " [ 1.00000000e+00 -6.37573110e-01 -2.23675187e-01]\n",
      " [ 1.00000000e+00 -7.63567023e-02  1.09041654e+00]\n",
      " [ 1.00000000e+00 -8.56737193e-04 -2.23675187e-01]\n",
      " [ 1.00000000e+00 -1.39273340e-01 -2.23675187e-01]\n",
      " [ 1.00000000e+00  3.11729182e+00  2.40450826e+00]\n",
      " [ 1.00000000e+00 -9.21956312e-01 -2.23675187e-01]\n",
      " [ 1.00000000e+00  3.76643089e-01  1.09041654e+00]\n",
      " [ 1.00000000e+00 -8.56523009e-01 -1.53776691e+00]\n",
      " [ 1.00000000e+00 -9.62222960e-01 -2.23675187e-01]\n",
      " [ 1.00000000e+00  7.65467909e-01  1.09041654e+00]\n",
      " [ 1.00000000e+00  1.29648433e+00  1.09041654e+00]\n",
      " [ 1.00000000e+00 -2.94048269e-01 -2.23675187e-01]\n",
      " [ 1.00000000e+00 -1.41790005e-01 -1.53776691e+00]\n",
      " [ 1.00000000e+00 -4.99156507e-01 -2.23675187e-01]\n",
      " [ 1.00000000e+00 -4.86733818e-02  1.09041654e+00]\n",
      " [ 1.00000000e+00  2.37739217e+00 -2.23675187e-01]\n",
      " [ 1.00000000e+00 -1.13335621e+00 -2.23675187e-01]\n",
      " [ 1.00000000e+00 -6.82873089e-01 -2.23675187e-01]\n",
      " [ 1.00000000e+00  6.61026291e-01 -2.23675187e-01]\n",
      " [ 1.00000000e+00  2.50809813e-01 -2.23675187e-01]\n",
      " [ 1.00000000e+00  8.00701226e-01 -2.23675187e-01]\n",
      " [ 1.00000000e+00 -2.03448310e-01 -1.53776691e+00]\n",
      " [ 1.00000000e+00 -1.25918949e+00 -2.85185864e+00]\n",
      " [ 1.00000000e+00  4.94765729e-02  1.09041654e+00]\n",
      " [ 1.00000000e+00  1.42986760e+00 -2.23675187e-01]\n",
      " [ 1.00000000e+00 -2.38681627e-01  1.09041654e+00]\n",
      " [ 1.00000000e+00 -7.09298077e-01 -2.23675187e-01]\n",
      " [ 1.00000000e+00 -9.58447962e-01 -2.23675187e-01]\n",
      " [ 1.00000000e+00  1.65243186e-01  1.09041654e+00]\n",
      " [ 1.00000000e+00  2.78635031e+00  1.09041654e+00]\n",
      " [ 1.00000000e+00  2.02993169e-01  1.09041654e+00]\n",
      " [ 1.00000000e+00 -4.23656542e-01 -1.53776691e+00]\n",
      " [ 1.00000000e+00  2.98626458e-01 -2.23675187e-01]\n",
      " [ 1.00000000e+00  7.12617934e-01  1.09041654e+00]\n",
      " [ 1.00000000e+00 -1.00752294e+00 -2.23675187e-01]\n",
      " [ 1.00000000e+00 -1.44542274e+00 -1.53776691e+00]\n",
      " [ 1.00000000e+00 -1.87089985e-01  1.09041654e+00]\n",
      " [ 1.00000000e+00 -1.00374794e+00 -2.23675187e-01]]\n",
      "X.shape =  (47, 3)\n",
      "**************************************\n",
      "theta \n",
      " [[0 0 0]]\n",
      "theta.shape =  (1, 3)\n",
      "**************************************\n",
      "y \n",
      " [[ 0.47574687]\n",
      " [-0.08407444]\n",
      " [ 0.22862575]\n",
      " [-0.86702453]\n",
      " [ 1.59538948]\n",
      " [-0.32399786]\n",
      " [-0.20403615]\n",
      " [-1.13094828]\n",
      " [-1.02697347]\n",
      " [-0.78305133]\n",
      " [-0.80305294]\n",
      " [ 0.05268191]\n",
      " [-0.08328269]\n",
      " [ 2.87498104]\n",
      " [-0.64389575]\n",
      " [ 0.87561923]\n",
      " [-0.32399786]\n",
      " [-1.12374258]\n",
      " [ 1.27627534]\n",
      " [ 2.06803861]\n",
      " [-0.69987788]\n",
      " [-0.68308324]\n",
      " [-0.77985235]\n",
      " [-0.64389575]\n",
      " [ 1.86730269]\n",
      " [-0.72387022]\n",
      " [ 0.99238196]\n",
      " [ 1.02837047]\n",
      " [ 1.07635515]\n",
      " [-0.32399786]\n",
      " [ 0.0758745 ]\n",
      " [-1.363666  ]\n",
      " [-0.20403615]\n",
      " [ 1.91528737]\n",
      " [-0.43596212]\n",
      " [-0.72387022]\n",
      " [-0.88381916]\n",
      " [ 0.03668701]\n",
      " [ 1.66816625]\n",
      " [-0.42716493]\n",
      " [ 0.22462702]\n",
      " [-0.08407444]\n",
      " [-0.21123385]\n",
      " [-0.33119556]\n",
      " [-1.28369153]\n",
      " [-0.32399786]\n",
      " [-0.80704367]]\n",
      "y.shape =  (47, 1)\n",
      "**************************************\n"
     ]
    }
   ],
   "source": [
    "# convert to matrices and initialize theta \n",
    "X = np.matrix(X.values) \n",
    "y = np.matrix(y.values) \n",
    "theta = np.matrix(np.array([0,0,0])) \n",
    "print('X \\n',X) \n",
    "print('X.shape = ' , X.shape) \n",
    "print('**************************************') \n",
    "print('theta \\n',theta) \n",
    "print('theta.shape = ' , theta.shape) \n",
    "print('**************************************') \n",
    "print('y \\n',y) \n",
    "print('y.shape = ' , y.shape) \n",
    "print('**************************************') "
   ]
  },
  {
   "cell_type": "code",
   "execution_count": 170,
   "metadata": {},
   "outputs": [],
   "source": [
    "# initialize variables for learning rate and iterations \n",
    "alpha = 0.1 \n",
    "iters = 100 "
   ]
  },
  {
   "cell_type": "code",
   "execution_count": 171,
   "metadata": {},
   "outputs": [
    {
     "name": "stdout",
     "output_type": "stream",
     "text": [
      "g =  [[-9.92704736e-17  8.79020847e-01 -4.74337322e-02]]\n",
      "======================================\n",
      "cost =  [0.40693147 0.34617152 0.30110291 0.26742183 0.24202804 0.22268634\n",
      " 0.20778332 0.19615275 0.18695011 0.17956245 0.17354364 0.16856787\n",
      " 0.1643961  0.16085209 0.15780504 0.15515715 0.15283462 0.1507812\n",
      " 0.14895353 0.14731772 0.14584693 0.14451959 0.14331811 0.14222795\n",
      " 0.14123687 0.14033451 0.13951191 0.13876131 0.13807589 0.13744961\n",
      " 0.13687711 0.13635356 0.13587464 0.13543646 0.13503547 0.13466846\n",
      " 0.13433251 0.13402498 0.13374344 0.13348567 0.13324967 0.13303358\n",
      " 0.13283572 0.13265455 0.13248866 0.13233675 0.13219766 0.13207029\n",
      " 0.13195365 0.13184685]\n",
      "======================================\n",
      "computeCost =  0.13070069539014845\n",
      "======================================\n"
     ]
    }
   ],
   "source": [
    "# perform linear regression on the data set \n",
    "g, cost = gradientDescent(X, y, theta, alpha, iters) \n",
    "\n",
    "# get the cost (error) of the model \n",
    "thiscost = computeCost(X, y, g) \n",
    "print('g = ' , g)\n",
    "print('======================================') \n",
    "print('cost = ' , cost[0:50] ) \n",
    "print('======================================') \n",
    "print('computeCost = ' , thiscost) \n",
    "print('======================================')  \n"
   ]
  },
  {
   "cell_type": "code",
   "execution_count": 172,
   "metadata": {},
   "outputs": [
    {
     "name": "stdout",
     "output_type": "stream",
     "text": [
      "x \n",
      " [-1.44542274 -1.39933471 -1.35324669 -1.30715866 -1.26107063 -1.21498261\n",
      " -1.16889458 -1.12280656 -1.07671853 -1.0306305  -0.98454248 -0.93845445\n",
      " -0.89236643 -0.8462784  -0.80019038 -0.75410235 -0.70801432 -0.6619263\n",
      " -0.61583827 -0.56975025 -0.52366222 -0.47757419 -0.43148617 -0.38539814\n",
      " -0.33931012 -0.29322209 -0.24713406 -0.20104604 -0.15495801 -0.10886999\n",
      " -0.06278196 -0.01669394  0.02939409  0.07548212  0.12157014  0.16765817\n",
      "  0.21374619  0.25983422  0.30592225  0.35201027  0.3980983   0.44418632\n",
      "  0.49027435  0.53636238  0.5824504   0.62853843  0.67462645  0.72071448\n",
      "  0.7668025   0.81289053  0.85897856  0.90506658  0.95115461  0.99724263\n",
      "  1.04333066  1.08941869  1.13550671  1.18159474  1.22768276  1.27377079\n",
      "  1.31985881  1.36594684  1.41203487  1.45812289  1.50421092  1.55029894\n",
      "  1.59638697  1.642475    1.68856302  1.73465105  1.78073907  1.8268271\n",
      "  1.87291513  1.91900315  1.96509118  2.0111792   2.05726723  2.10335525\n",
      "  2.14944328  2.19553131  2.24161933  2.28770736  2.33379538  2.37988341\n",
      "  2.42597144  2.47205946  2.51814749  2.56423551  2.61032354  2.65641157\n",
      "  2.70249959  2.74858762  2.79467564  2.84076367  2.88685169  2.93293972\n",
      "  2.97902775  3.02511577  3.0712038   3.11729182]\n",
      "======================================\n",
      "g \n",
      " [[-9.92704736e-17  8.79020847e-01 -4.74337322e-02]]\n",
      "======================================\n",
      "f \n",
      " [-1.27055672 -1.23004438 -1.18953205 -1.14901971 -1.10850738 -1.06799504\n",
      " -1.02748271 -0.98697037 -0.94645803 -0.9059457  -0.86543336 -0.82492103\n",
      " -0.78440869 -0.74389636 -0.70338402 -0.66287169 -0.62235935 -0.58184701\n",
      " -0.54133468 -0.50082234 -0.46031001 -0.41979767 -0.37928534 -0.338773\n",
      " -0.29826067 -0.25774833 -0.21723599 -0.17672366 -0.13621132 -0.09569899\n",
      " -0.05518665 -0.01467432  0.02583802  0.06635035  0.10686269  0.14737503\n",
      "  0.18788736  0.2283997   0.26891203  0.30942437  0.3499367   0.39044904\n",
      "  0.43096137  0.47147371  0.51198605  0.55249838  0.59301072  0.63352305\n",
      "  0.67403539  0.71454772  0.75506006  0.79557239  0.83608473  0.87659706\n",
      "  0.9171094   0.95762174  0.99813407  1.03864641  1.07915874  1.11967108\n",
      "  1.16018341  1.20069575  1.24120808  1.28172042  1.32223276  1.36274509\n",
      "  1.40325743  1.44376976  1.4842821   1.52479443  1.56530677  1.6058191\n",
      "  1.64633144  1.68684378  1.72735611  1.76786845  1.80838078  1.84889312\n",
      "  1.88940545  1.92991779  1.97043012  2.01094246  2.0514548   2.09196713\n",
      "  2.13247947  2.1729918   2.21350414  2.25401647  2.29452881  2.33504114\n",
      "  2.37555348  2.41606582  2.45657815  2.49709049  2.53760282  2.57811516\n",
      "  2.61862749  2.65913983  2.69965216  2.7401645 ]\n",
      "======================================\n"
     ]
    }
   ],
   "source": [
    "# get best fit line for Size vs. Price \n",
    "x = np.linspace(data.Size.min(), data.Size.max(), 100) \n",
    "print('x \\n',x) \n",
    "print('======================================') \n",
    "print('g \\n',g) \n",
    "print('======================================') \n",
    "f = g[0, 0] + (g[0, 1] * x) \n",
    "print('f \\n',f) \n",
    "print('======================================') "
   ]
  },
  {
   "cell_type": "code",
   "execution_count": 173,
   "metadata": {},
   "outputs": [
    {
     "data": {
      "text/plain": [
       "Text(0.5,1,'Size vs. Price')"
      ]
     },
     "execution_count": 173,
     "metadata": {},
     "output_type": "execute_result"
    },
    {
     "data": {
      "image/png": "[encoded data removed]",
      "text/plain": [
       "<Figure size 360x360 with 1 Axes>"
      ]
     },
     "metadata": {
      "needs_background": "light"
     },
     "output_type": "display_data"
    }
   ],
   "source": [
    "# draw the line for Size vs. Price \n",
    "fig, ax = plt.subplots(figsize=(5,5)) \n",
    "ax.plot(x, f, 'r', label='Prediction') \n",
    "ax.scatter(data.Size, data.Price, label='Training Data') \n",
    "ax.legend(loc=2) \n",
    "ax.set_xlabel('Size') \n",
    "ax.set_ylabel('Price') \n",
    "ax.set_title('Size vs. Price') \n"
   ]
  },
  {
   "cell_type": "code",
   "execution_count": 174,
   "metadata": {},
   "outputs": [
    {
     "name": "stdout",
     "output_type": "stream",
     "text": [
      "x \n",
      " [-2.85185864 -2.79876402 -2.74566941 -2.69257479 -2.63948018 -2.58638556\n",
      " -2.53329095 -2.48019633 -2.42710172 -2.3740071  -2.32091249 -2.26781787\n",
      " -2.21472325 -2.16162864 -2.10853402 -2.05543941 -2.00234479 -1.94925018\n",
      " -1.89615556 -1.84306095 -1.78996633 -1.73687172 -1.6837771  -1.63068249\n",
      " -1.57758787 -1.52449326 -1.47139864 -1.41830403 -1.36520941 -1.3121148\n",
      " -1.25902018 -1.20592557 -1.15283095 -1.09973634 -1.04664172 -0.99354711\n",
      " -0.94045249 -0.88735788 -0.83426326 -0.78116865 -0.72807403 -0.67497942\n",
      " -0.6218848  -0.56879019 -0.51569557 -0.46260096 -0.40950634 -0.35641173\n",
      " -0.30331711 -0.25022249 -0.19712788 -0.14403326 -0.09093865 -0.03784403\n",
      "  0.01525058  0.0683452   0.12143981  0.17453443  0.22762904  0.28072366\n",
      "  0.33381827  0.38691289  0.4400075   0.49310212  0.54619673  0.59929135\n",
      "  0.65238596  0.70548058  0.75857519  0.81166981  0.86476442  0.91785904\n",
      "  0.97095365  1.02404827  1.07714288  1.1302375   1.18333211  1.23642673\n",
      "  1.28952134  1.34261596  1.39571057  1.44880519  1.5018998   1.55499442\n",
      "  1.60808904  1.66118365  1.71427827  1.76737288  1.8204675   1.87356211\n",
      "  1.92665673  1.97975134  2.03284596  2.08594057  2.13903519  2.1921298\n",
      "  2.24522442  2.29831903  2.35141365  2.40450826]\n",
      "======================================\n",
      "g \n",
      " [[-9.92704736e-17  8.79020847e-01 -4.74337322e-02]]\n",
      "======================================\n",
      "f \n",
      " [-2.5068432  -2.46017192 -2.41350065 -2.36682937 -2.3201581  -2.27348683\n",
      " -2.22681555 -2.18014428 -2.13347301 -2.08680173 -2.04013046 -1.99345919\n",
      " -1.94678791 -1.90011664 -1.85344536 -1.80677409 -1.76010282 -1.71343154\n",
      " -1.66676027 -1.620089   -1.57341772 -1.52674645 -1.48007518 -1.4334039\n",
      " -1.38673263 -1.34006136 -1.29339008 -1.24671881 -1.20004753 -1.15337626\n",
      " -1.10670499 -1.06003371 -1.01336244 -0.96669117 -0.92001989 -0.87334862\n",
      " -0.82667735 -0.78000607 -0.7333348  -0.68666353 -0.63999225 -0.59332098\n",
      " -0.5466497  -0.49997843 -0.45330716 -0.40663588 -0.35996461 -0.31329334\n",
      " -0.26662206 -0.21995079 -0.17327952 -0.12660824 -0.07993697 -0.0332657\n",
      "  0.01340558  0.06007685  0.10674813  0.1534194   0.20009067  0.24676195\n",
      "  0.29343322  0.34010449  0.38677577  0.43344704  0.48011831  0.52678959\n",
      "  0.57346086  0.62013214  0.66680341  0.71347468  0.76014596  0.80681723\n",
      "  0.8534885   0.90015978  0.94683105  0.99350232  1.0401736   1.08684487\n",
      "  1.13351614  1.18018742  1.22685869  1.27352997  1.32020124  1.36687251\n",
      "  1.41354379  1.46021506  1.50688633  1.55355761  1.60022888  1.64690015\n",
      "  1.69357143  1.7402427   1.78691397  1.83358525  1.88025652  1.9269278\n",
      "  1.97359907  2.02027034  2.06694162  2.11361289]\n",
      "======================================\n"
     ]
    }
   ],
   "source": [
    "# get best fit line for Bedrooms vs. Price \n",
    "x = np.linspace(data.Bedrooms.min(), data.Bedrooms.max(), 100) \n",
    "print('x \\n',x) \n",
    "print('======================================') \n",
    "print('g \\n',g) \n",
    "print('======================================') \n",
    "f = g[0, 0] + (g[0, 1] * x) \n",
    "print('f \\n',f) \n",
    "print('======================================') "
   ]
  },
  {
   "cell_type": "code",
   "execution_count": 175,
   "metadata": {},
   "outputs": [
    {
     "data": {
      "text/plain": [
       "Text(0.5,1,'Size vs. Price')"
      ]
     },
     "execution_count": 175,
     "metadata": {},
     "output_type": "execute_result"
    },
    {
     "data": {
      "image/png": "[encoded data removed]",
      "text/plain": [
       "<Figure size 360x360 with 1 Axes>"
      ]
     },
     "metadata": {
      "needs_background": "light"
     },
     "output_type": "display_data"
    }
   ],
   "source": [
    "# draw the line for Bedrooms vs. Price \n",
    "fig, ax = plt.subplots(figsize=(5,5)) \n",
    "ax.plot(x, f, 'r', label='Prediction') \n",
    "ax.scatter(data.Bedrooms, data.Price, label='Traning Data') \n",
    "ax.legend(loc=2) \n",
    "ax.set_xlabel('Bedrooms') \n",
    "ax.set_ylabel('Price') \n",
    "ax.set_title('Size vs. Price') "
   ]
  },
  {
   "cell_type": "code",
   "execution_count": 176,
   "metadata": {},
   "outputs": [
    {
     "data": {
      "text/plain": [
       "Text(0.5,1,'Error vs. Training Epoch')"
      ]
     },
     "execution_count": 176,
     "metadata": {},
     "output_type": "execute_result"
    },
    {
     "data": {
      "image/png": "[encoded data removed]",
      "text/plain": [
       "<Figure size 360x360 with 1 Axes>"
      ]
     },
     "metadata": {
      "needs_background": "light"
     },
     "output_type": "display_data"
    }
   ],
   "source": [
    "# draw error graph \n",
    "fig, ax = plt.subplots(figsize=(5,5)) \n",
    "ax.plot(np.arange(iters), cost, 'r') \n",
    "ax.set_xlabel('Iterations') \n",
    "ax.set_ylabel('Cost') \n",
    "ax.set_title('Error vs. Training Epoch') "
   ]
  },
  {
   "cell_type": "code",
   "execution_count": null,
   "metadata": {},
   "outputs": [],
   "source": []
  }
 ],
 "metadata": {
  "kernelspec": {
   "display_name": "Python 3",
   "language": "python",
   "name": "python3"
  },
  "language_info": {
   "codemirror_mode": {
    "name": "ipython",
    "version": 3
   },
   "file_extension": ".py",
   "mimetype": "text/x-python",
   "name": "python",
   "nbconvert_exporter": "python",
   "pygments_lexer": "ipython3",
   "version": "3.6.6"
  }
 },
 "nbformat": 4,
 "nbformat_minor": 4
}
