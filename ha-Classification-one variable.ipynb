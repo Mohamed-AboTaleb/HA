{
 "cells": [
  {
   "cell_type": "code",
   "execution_count": 17,
   "metadata": {},
   "outputs": [],
   "source": [
    "import numpy as np \n",
    "import pandas as pd \n",
    "import matplotlib.pyplot as plt \n",
    "import scipy.optimize as opt "
   ]
  },
  {
   "cell_type": "code",
   "execution_count": 18,
   "metadata": {},
   "outputs": [
    {
     "name": "stdout",
     "output_type": "stream",
     "text": [
      "data = \n",
      "      Exam 1     Exam 2  Admitted\n",
      "0  34.623660  78.024693         0\n",
      "1  30.286711  43.894998         0\n",
      "2  35.847409  72.902198         0\n",
      "3  60.182599  86.308552         1\n",
      "4  79.032736  75.344376         1\n",
      "5  45.083277  56.316372         0\n",
      "6  61.106665  96.511426         1\n",
      "7  75.024746  46.554014         1\n",
      "8  76.098787  87.420570         1\n",
      "9  84.432820  43.533393         1\n",
      "======================================\n",
      "data.describe = \n",
      "           Exam 1      Exam 2    Admitted\n",
      "count  100.000000  100.000000  100.000000\n",
      "mean    65.644274   66.221998    0.600000\n",
      "std     19.458222   18.582783    0.492366\n",
      "min     30.058822   30.603263    0.000000\n",
      "25%     50.919511   48.179205    0.000000\n",
      "50%     67.032988   67.682381    1.000000\n",
      "75%     80.212529   79.360605    1.000000\n",
      "max     99.827858   98.869436    1.000000\n"
     ]
    }
   ],
   "source": [
    "path = 'D:\\\\dldb\\\\ha\\\\ex3data.txt' \n",
    "data = pd.read_csv(path, header=None, names=['Exam 1', 'Exam 2', 'Admitted']) \n",
    "print('data = ') \n",
    "print(data.head(10) ) \n",
    "print('======================================')  \n",
    "print('data.describe = ') \n",
    "print(data.describe()) "
   ]
  },
  {
   "cell_type": "code",
   "execution_count": 19,
   "metadata": {},
   "outputs": [],
   "source": [
    "positive = data[data['Admitted'].isin([1])] \n",
    "negative = data[data['Admitted'].isin([0])] "
   ]
  },
  {
   "cell_type": "code",
   "execution_count": 20,
   "metadata": {},
   "outputs": [
    {
     "data": {
      "text/plain": [
       "Text(0,0.5,'Exam 2 Score')"
      ]
     },
     "execution_count": 20,
     "metadata": {},
     "output_type": "execute_result"
    },
    {
     "data": {
      "image/png": "[encoded data removed]",
      "text/plain": [
       "<Figure size 360x360 with 1 Axes>"
      ]
     },
     "metadata": {
      "needs_background": "light"
     },
     "output_type": "display_data"
    }
   ],
   "source": [
    "fig, ax = plt.subplots(figsize=(5,5)) \n",
    "ax.scatter(positive['Exam 1'], positive['Exam 2'], s=50, c='b', marker='o', label='Admitted') \n",
    "ax.scatter(negative['Exam 1'], negative['Exam 2'], s=50, c='r', marker='x', label='Not Admitted') \n",
    "ax.legend() \n",
    "ax.set_xlabel('Exam 1 Score') \n",
    "ax.set_ylabel('Exam 2 Score') "
   ]
  },
  {
   "cell_type": "code",
   "execution_count": 21,
   "metadata": {},
   "outputs": [],
   "source": [
    "def sigmoid(z): \n",
    " return 1 / (1 + np.exp(-z)) "
   ]
  },
  {
   "cell_type": "code",
   "execution_count": 22,
   "metadata": {},
   "outputs": [
    {
     "data": {
      "text/plain": [
       "[<matplotlib.lines.Line2D at 0x17a72d91dd8>]"
      ]
     },
     "execution_count": 22,
     "metadata": {},
     "output_type": "execute_result"
    },
    {
     "data": {
      "image/png": "[encoded data removed]",
      "text/plain": [
       "<Figure size 360x360 with 1 Axes>"
      ]
     },
     "metadata": {
      "needs_background": "light"
     },
     "output_type": "display_data"
    }
   ],
   "source": [
    "nums = np.arange(-10, 10, step=1) \n",
    "fig, ax = plt.subplots(figsize=(5,5)) \n",
    "ax.plot(nums, sigmoid(nums), 'r') "
   ]
  },
  {
   "cell_type": "code",
   "execution_count": 23,
   "metadata": {},
   "outputs": [],
   "source": [
    "def cost(theta, X, y): \n",
    "    theta = np.matrix(theta) \n",
    "    X = np.matrix(X) \n",
    "    y = np.matrix(y) \n",
    "    first = np.multiply(-y, np.log(sigmoid(X * theta.T))) \n",
    "    second = np.multiply((1 - y), np.log(1 - sigmoid(X * theta.T))) \n",
    "    return np.sum(first - second) / (len(X)) "
   ]
  },
  {
   "cell_type": "code",
   "execution_count": 24,
   "metadata": {},
   "outputs": [
    {
     "name": "stdout",
     "output_type": "stream",
     "text": [
      "    Ones     Exam 1     Exam 2  Admitted\n",
      "0      1  34.623660  78.024693         0\n",
      "1      1  30.286711  43.894998         0\n",
      "2      1  35.847409  72.902198         0\n",
      "3      1  60.182599  86.308552         1\n",
      "4      1  79.032736  75.344376         1\n",
      "..   ...        ...        ...       ...\n",
      "95     1  83.489163  48.380286         1\n",
      "96     1  42.261701  87.103851         1\n",
      "97     1  99.315009  68.775409         1\n",
      "98     1  55.340018  64.931938         1\n",
      "99     1  74.775893  89.529813         1\n",
      "\n",
      "[100 rows x 4 columns]\n"
     ]
    }
   ],
   "source": [
    "# add a ones column - this makes the matrix multiplication work out easier \n",
    "data.insert(0, 'Ones', 1) \n",
    "print(data)"
   ]
  },
  {
   "cell_type": "code",
   "execution_count": 25,
   "metadata": {},
   "outputs": [],
   "source": [
    "# set X (training data) and y (target variable) \n",
    "cols = data.shape[1] \n",
    "X = data.iloc[:,0:cols-1] \n",
    "y = data.iloc[:,cols-1:cols] "
   ]
  },
  {
   "cell_type": "code",
   "execution_count": 26,
   "metadata": {},
   "outputs": [],
   "source": [
    "# convert to numpy arrays and initalize the parameter array theta \n",
    "X = np.array(X.values) \n",
    "y = np.array(y.values) \n",
    "theta = np.zeros(3) "
   ]
  },
  {
   "cell_type": "code",
   "execution_count": 27,
   "metadata": {},
   "outputs": [
    {
     "name": "stdout",
     "output_type": "stream",
     "text": [
      "X.shape =  (100, 3)\n",
      "======================================\n",
      "theta.shape =  (3,)\n",
      "======================================\n",
      "y.shape =  (100, 1)\n"
     ]
    }
   ],
   "source": [
    "print('X.shape = ' , X.shape) \n",
    "print('======================================') \n",
    "print('theta.shape = ' , theta.shape)\n",
    "print('======================================') \n",
    "print('y.shape = ' , y.shape) "
   ]
  },
  {
   "cell_type": "code",
   "execution_count": 28,
   "metadata": {},
   "outputs": [
    {
     "name": "stdout",
     "output_type": "stream",
     "text": [
      "\n",
      "cost =  0.6931471805599453\n",
      "\n"
     ]
    }
   ],
   "source": [
    "thiscost = cost(theta, X, y) \n",
    "print() \n",
    "print('cost = ' , thiscost) \n",
    "print() "
   ]
  },
  {
   "cell_type": "code",
   "execution_count": 29,
   "metadata": {},
   "outputs": [],
   "source": [
    "def gradient(theta, X, y): \n",
    "    theta = np.matrix(theta) \n",
    "    X = np.matrix(X) \n",
    "    y = np.matrix(y) \n",
    "    parameters = int(theta.ravel().shape[1]) \n",
    "    grad = np.zeros(parameters) \n",
    "    error = sigmoid(X * theta.T) - y \n",
    "    for i in range(parameters): \n",
    "        term = np.multiply(error, X[:,i]) \n",
    "        grad[i] = np.sum(term) / len(X) \n",
    "    return grad "
   ]
  },
  {
   "cell_type": "code",
   "execution_count": 30,
   "metadata": {},
   "outputs": [
    {
     "name": "stdout",
     "output_type": "stream",
     "text": [
      "\n",
      "cost after optimize =  0.20349770158947464\n",
      "\n"
     ]
    }
   ],
   "source": [
    "result = opt.fmin_tnc(func=cost, x0=theta, fprime=gradient, args=(X, y)) \n",
    "costafteroptimize = cost(result[0], X, y) \n",
    "print() \n",
    "print('cost after optimize = ' , costafteroptimize) \n",
    "print() "
   ]
  },
  {
   "cell_type": "code",
   "execution_count": 31,
   "metadata": {},
   "outputs": [],
   "source": [
    "def predict(theta, X): \n",
    "    probability = sigmoid(X * theta.T) \n",
    "    return [1 if x >= 0.5 else 0 for x in probability] "
   ]
  },
  {
   "cell_type": "code",
   "execution_count": 32,
   "metadata": {},
   "outputs": [
    {
     "name": "stdout",
     "output_type": "stream",
     "text": [
      "accuracy = 89%\n"
     ]
    }
   ],
   "source": [
    "theta_min = np.matrix(result[0]) \n",
    "predictions = predict(theta_min, X) \n",
    "correct = [1 if ((a == 1 and b == 1) or (a == 0 and b == 0)) else 0 for (a, b) in \n",
    "zip(predictions, y)] \n",
    "accuracy = (sum(map(int, correct)) % len(correct)) \n",
    "print ('accuracy = {0}%'.format(accuracy)) "
   ]
  },
  {
   "cell_type": "code",
   "execution_count": null,
   "metadata": {},
   "outputs": [],
   "source": []
  }
 ],
 "metadata": {
  "kernelspec": {
   "display_name": "Python 3",
   "language": "python",
   "name": "python3"
  },
  "language_info": {
   "codemirror_mode": {
    "name": "ipython",
    "version": 3
   },
   "file_extension": ".py",
   "mimetype": "text/x-python",
   "name": "python",
   "nbconvert_exporter": "python",
   "pygments_lexer": "ipython3",
   "version": "3.6.6"
  }
 },
 "nbformat": 4,
 "nbformat_minor": 4
}
