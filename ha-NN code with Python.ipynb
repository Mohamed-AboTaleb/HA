{
 "cells": [
  {
   "cell_type": "code",
   "execution_count": 140,
   "metadata": {},
   "outputs": [],
   "source": [
    "import numpy as np \n",
    "neuron = 4 "
   ]
  },
  {
   "cell_type": "code",
   "execution_count": 141,
   "metadata": {},
   "outputs": [],
   "source": [
    "def sigmoid(x): \n",
    "    return 1.0/(1+ np.exp(-x)) "
   ]
  },
  {
   "cell_type": "code",
   "execution_count": 142,
   "metadata": {},
   "outputs": [],
   "source": [
    "def sigmoid_derivative(x): \n",
    "    return x * (1.0 - x)"
   ]
  },
  {
   "cell_type": "code",
   "execution_count": 143,
   "metadata": {},
   "outputs": [],
   "source": [
    "class NeuralNetwork: \n",
    "    def __init__(self, x, y): \n",
    "        self.input = x \n",
    "        print('inputs \\n' , self.input) \n",
    "        print('==================================') \n",
    "        self.weights1 = np.random.rand(self.input.shape[1],neuron) \n",
    "        print('weights1 \\n',self.weights1) \n",
    "        print('==================================') \n",
    "        self.weights2 = np.random.rand(neuron,1) \n",
    "        print('weights2 \\n',self.weights2) \n",
    "        print('==================================') \n",
    "        self.y = y \n",
    "        print('y \\n',self.y) \n",
    "        print('==================================') \n",
    "        self.output = np.zeros(self.y.shape) # y hat \n",
    "        print('output \\n',self.output) \n",
    "        print('==================================') \n",
    "        \n",
    "    def feedforward(self): \n",
    "        self.layer1 = sigmoid(np.dot(self.input, self.weights1)) \n",
    "#=======print('layer 1 \\n',self.layer1) \n",
    "#=======print() \n",
    "        self.output = sigmoid(np.dot(self.layer1, self.weights2)) \n",
    "#=======print('output \\n',self.output) \n",
    "#=======print() \n",
    "\n",
    "\n",
    "    def backprop(self): \n",
    "#=======application of the chain rule to find derivative of the loss function with respect to weights2 and weights1 \n",
    "        d_weights2 = np.dot(self.layer1.T, (2*(self.y - self.output) * sigmoid_derivative(self.output))) \n",
    "#=======print('d_weights2 \\n',d_weights2 ) \n",
    "#=======print() \n",
    "        \n",
    "        d_weights1 = np.dot(self.input.T, (np.dot(2*(self.y - self.output) * sigmoid_derivative(self.output),\n",
    "                                                  self.weights2.T) * sigmoid_derivative(self.layer1))) \n",
    "#=======print('d_weights1 \\n',d_weights1) \n",
    "#=======print() \n",
    "\n",
    "#=======update the weights with the derivative (slope) of the loss function \n",
    "        self.weights1 += d_weights1 \n",
    "        self.weights2 += d_weights2 "
   ]
  },
  {
   "cell_type": "code",
   "execution_count": 144,
   "metadata": {},
   "outputs": [
    {
     "name": "stdout",
     "output_type": "stream",
     "text": [
      "[[0 0 1]\n",
      " [0 1 1]\n",
      " [1 0 1]\n",
      " [1 1 1]]\n",
      "[[1]\n",
      " [0]\n",
      " [1]\n",
      " [0]]\n"
     ]
    }
   ],
   "source": [
    "X = np.array([[0,0,1],\n",
    "              [0,1,1],\n",
    "              [1,0,1], \n",
    "              [1,1,1]]) \n",
    "print(X)\n",
    "y = np.array([[1], \n",
    "              [0], \n",
    "              [1], \n",
    "              [0]]) \n",
    "print(y)"
   ]
  },
  {
   "cell_type": "code",
   "execution_count": 145,
   "metadata": {},
   "outputs": [
    {
     "name": "stdout",
     "output_type": "stream",
     "text": [
      "inputs \n",
      " [[0 0 1]\n",
      " [0 1 1]\n",
      " [1 0 1]\n",
      " [1 1 1]]\n",
      "==================================\n",
      "weights1 \n",
      " [[0.94974502 0.50856357 0.99715447 0.58289448]\n",
      " [0.38028919 0.67927592 0.09886615 0.32573009]\n",
      " [0.5688247  0.36198767 0.97916373 0.43777667]]\n",
      "==================================\n",
      "weights2 \n",
      " [[0.74027634]\n",
      " [0.16629801]\n",
      " [0.32352414]\n",
      " [0.14836908]]\n",
      "==================================\n",
      "y \n",
      " [[1]\n",
      " [0]\n",
      " [1]\n",
      " [0]]\n",
      "==================================\n",
      "output \n",
      " [[0.]\n",
      " [0.]\n",
      " [0.]\n",
      " [0.]]\n",
      "==================================\n",
      "[[0.99649772]\n",
      " [0.00292462]\n",
      " [0.99702992]\n",
      " [0.00335849]]\n",
      "==================================\n",
      "rounded int output =\n",
      "[[1]\n",
      " [0]\n",
      " [1]\n",
      " [0]]\n"
     ]
    }
   ],
   "source": [
    "nn = NeuralNetwork(X,y) \n",
    "\n",
    "for i in range(10000):\n",
    "    nn.feedforward() \n",
    "    nn.backprop() \n",
    "\n",
    "print(nn.output)\n",
    "\n",
    "a= np.around(nn.output,decimals=1)\n",
    "print('==================================')\n",
    "print('rounded int output =')\n",
    "print(a.astype(int))"
   ]
  },
  {
   "cell_type": "code",
   "execution_count": null,
   "metadata": {},
   "outputs": [],
   "source": []
  }
 ],
 "metadata": {
  "kernelspec": {
   "display_name": "Python 3",
   "language": "python",
   "name": "python3"
  },
  "language_info": {
   "codemirror_mode": {
    "name": "ipython",
    "version": 3
   },
   "file_extension": ".py",
   "mimetype": "text/x-python",
   "name": "python",
   "nbconvert_exporter": "python",
   "pygments_lexer": "ipython3",
   "version": "3.6.6"
  }
 },
 "nbformat": 4,
 "nbformat_minor": 4
}
